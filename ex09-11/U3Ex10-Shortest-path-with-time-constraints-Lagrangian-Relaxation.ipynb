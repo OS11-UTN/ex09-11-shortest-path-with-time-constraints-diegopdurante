{
 "cells": [
  {
   "cell_type": "markdown",
   "metadata": {},
   "source": [
    "# Shortest path with time constraints and lagrangian relaxation"
   ]
  },
  {
   "cell_type": "markdown",
   "metadata": {},
   "source": [
    "![title](img/ej9.png)"
   ]
  },
  {
   "cell_type": "markdown",
   "metadata": {},
   "source": [
    "1. For #EX11 and T ≤ 8 hs. apply the Lagrangian Relaxation method and find a solution iterating for different values of lagrangian multipliers (λ) between 0 and 1.\n",
    "1. Plot all the objective function primal solutions for the set of lagrangian multipliers used in 1).\n",
    "1. What should be the optimum λ related to the shortest path solution?"
   ]
  },
  {
   "cell_type": "markdown",
   "metadata": {},
   "source": [
    "# Import modules and libraries"
   ]
  },
  {
   "cell_type": "code",
   "execution_count": 1,
   "metadata": {},
   "outputs": [],
   "source": [
    "import numpy as np\n",
    "import pandas as pd\n",
    "from scipy.optimize import linprog\n",
    "\n",
    "import matplotlib.pyplot as plt\n",
    "\n",
    "from mis_utils import *\n",
    "\n",
    "pd.options.display.max_columns = None\n",
    "pd.options.display.max_rows = None\n",
    "pd.options.display.latex.repr = True"
   ]
  },
  {
   "cell_type": "markdown",
   "metadata": {},
   "source": [
    "## Set connections and get matrices"
   ]
  },
  {
   "cell_type": "code",
   "execution_count": 2,
   "metadata": {},
   "outputs": [],
   "source": [
    "# Definiciones de constantes\n",
    "\n",
    "node_names = np.array(('s', '2','3', '4', '5', 't'))\n",
    "\n",
    "NN_dist = np.zeros((node_names.shape[0], node_names.shape[0]))\n",
    "NN_time = np.zeros((node_names.shape[0], node_names.shape[0]))\n",
    "\n",
    "# b = np.zeros((node_names.shape))\n",
    "beq = np.zeros((node_names.shape))\n",
    "beq[0]=1\n",
    "beq[-1]=-1\n",
    "T1 = 9\n",
    "T2 = 8"
   ]
  },
  {
   "cell_type": "code",
   "execution_count": 3,
   "metadata": {},
   "outputs": [],
   "source": [
    "connect_nodes(NN_dist, node_names, 's', '2', 2)\n",
    "connect_nodes(NN_time, node_names, 's', '2', 3)\n",
    "\n",
    "connect_nodes(NN_dist, node_names, '2', '4', 2)\n",
    "connect_nodes(NN_time, node_names, '2', '4', 3)\n",
    "\n",
    "connect_nodes(NN_dist, node_names, '4', 't', 1)\n",
    "connect_nodes(NN_time, node_names, '4', 't', 3)\n",
    "\n",
    "connect_nodes(NN_dist, node_names, '2', 't', 5)\n",
    "connect_nodes(NN_time, node_names, '2', 't', 1)\n",
    "\n",
    "connect_nodes(NN_dist, node_names, 's', '3', 1)\n",
    "connect_nodes(NN_time, node_names, 's', '3', 1)\n",
    "\n",
    "connect_nodes(NN_dist, node_names, '3', '5', 2)\n",
    "connect_nodes(NN_time, node_names, '3', '5', 3)\n",
    "\n",
    "connect_nodes(NN_dist, node_names, '5', 't', 2)\n",
    "connect_nodes(NN_time, node_names, '5', 't', 5)"
   ]
  },
  {
   "cell_type": "code",
   "execution_count": 4,
   "metadata": {},
   "outputs": [
    {
     "data": {
      "text/html": [
       "<div>\n",
       "<style scoped>\n",
       "    .dataframe tbody tr th:only-of-type {\n",
       "        vertical-align: middle;\n",
       "    }\n",
       "\n",
       "    .dataframe tbody tr th {\n",
       "        vertical-align: top;\n",
       "    }\n",
       "\n",
       "    .dataframe thead th {\n",
       "        text-align: right;\n",
       "    }\n",
       "</style>\n",
       "<table border=\"1\" class=\"dataframe\">\n",
       "  <thead>\n",
       "    <tr style=\"text-align: right;\">\n",
       "      <th></th>\n",
       "      <th>s</th>\n",
       "      <th>2</th>\n",
       "      <th>3</th>\n",
       "      <th>4</th>\n",
       "      <th>5</th>\n",
       "      <th>t</th>\n",
       "    </tr>\n",
       "  </thead>\n",
       "  <tbody>\n",
       "    <tr>\n",
       "      <th>s</th>\n",
       "      <td>0</td>\n",
       "      <td>1</td>\n",
       "      <td>1</td>\n",
       "      <td>0</td>\n",
       "      <td>0</td>\n",
       "      <td>0</td>\n",
       "    </tr>\n",
       "    <tr>\n",
       "      <th>2</th>\n",
       "      <td>0</td>\n",
       "      <td>0</td>\n",
       "      <td>0</td>\n",
       "      <td>1</td>\n",
       "      <td>0</td>\n",
       "      <td>1</td>\n",
       "    </tr>\n",
       "    <tr>\n",
       "      <th>3</th>\n",
       "      <td>0</td>\n",
       "      <td>0</td>\n",
       "      <td>0</td>\n",
       "      <td>0</td>\n",
       "      <td>1</td>\n",
       "      <td>0</td>\n",
       "    </tr>\n",
       "    <tr>\n",
       "      <th>4</th>\n",
       "      <td>0</td>\n",
       "      <td>0</td>\n",
       "      <td>0</td>\n",
       "      <td>0</td>\n",
       "      <td>0</td>\n",
       "      <td>1</td>\n",
       "    </tr>\n",
       "    <tr>\n",
       "      <th>5</th>\n",
       "      <td>0</td>\n",
       "      <td>0</td>\n",
       "      <td>0</td>\n",
       "      <td>0</td>\n",
       "      <td>0</td>\n",
       "      <td>1</td>\n",
       "    </tr>\n",
       "    <tr>\n",
       "      <th>t</th>\n",
       "      <td>0</td>\n",
       "      <td>0</td>\n",
       "      <td>0</td>\n",
       "      <td>0</td>\n",
       "      <td>0</td>\n",
       "      <td>0</td>\n",
       "    </tr>\n",
       "  </tbody>\n",
       "</table>\n",
       "</div>"
      ],
      "text/latex": [
       "\\begin{tabular}{lrrrrrr}\n",
       "\\toprule\n",
       "{} &  s &  2 &  3 &  4 &  5 &  t \\\\\n",
       "\\midrule\n",
       "s &  0 &  1 &  1 &  0 &  0 &  0 \\\\\n",
       "2 &  0 &  0 &  0 &  1 &  0 &  1 \\\\\n",
       "3 &  0 &  0 &  0 &  0 &  1 &  0 \\\\\n",
       "4 &  0 &  0 &  0 &  0 &  0 &  1 \\\\\n",
       "5 &  0 &  0 &  0 &  0 &  0 &  1 \\\\\n",
       "t &  0 &  0 &  0 &  0 &  0 &  0 \\\\\n",
       "\\bottomrule\n",
       "\\end{tabular}\n"
      ],
      "text/plain": [
       "   s  2  3  4  5  t\n",
       "s  0  1  1  0  0  0\n",
       "2  0  0  0  1  0  1\n",
       "3  0  0  0  0  1  0\n",
       "4  0  0  0  0  0  1\n",
       "5  0  0  0  0  0  1\n",
       "t  0  0  0  0  0  0"
      ]
     },
     "execution_count": 4,
     "metadata": {},
     "output_type": "execute_result"
    }
   ],
   "source": [
    "NN = ((NN_dist!=0) | (NN_time!=0)!=0).astype(int)\n",
    "pd.DataFrame((NN!=0).astype(int), columns=node_names, index=node_names)"
   ]
  },
  {
   "cell_type": "code",
   "execution_count": 5,
   "metadata": {},
   "outputs": [
    {
     "name": "stdout",
     "output_type": "stream",
     "text": [
      "They are 7 connections\n"
     ]
    }
   ],
   "source": [
    "print(\"They are {} connections\".format((NN!=0).astype(int).sum().sum()))"
   ]
  },
  {
   "cell_type": "markdown",
   "metadata": {},
   "source": [
    "## Convert to solvable data"
   ]
  },
  {
   "cell_type": "code",
   "execution_count": 6,
   "metadata": {},
   "outputs": [
    {
     "name": "stdout",
     "output_type": "stream",
     "text": [
      "Aeq:\n"
     ]
    },
    {
     "data": {
      "text/html": [
       "<div>\n",
       "<style scoped>\n",
       "    .dataframe tbody tr th:only-of-type {\n",
       "        vertical-align: middle;\n",
       "    }\n",
       "\n",
       "    .dataframe tbody tr th {\n",
       "        vertical-align: top;\n",
       "    }\n",
       "\n",
       "    .dataframe thead th {\n",
       "        text-align: right;\n",
       "    }\n",
       "</style>\n",
       "<table border=\"1\" class=\"dataframe\">\n",
       "  <thead>\n",
       "    <tr style=\"text-align: right;\">\n",
       "      <th></th>\n",
       "      <th>s-&gt;2</th>\n",
       "      <th>s-&gt;3</th>\n",
       "      <th>2-&gt;4</th>\n",
       "      <th>2-&gt;t</th>\n",
       "      <th>3-&gt;5</th>\n",
       "      <th>4-&gt;t</th>\n",
       "      <th>5-&gt;t</th>\n",
       "    </tr>\n",
       "  </thead>\n",
       "  <tbody>\n",
       "    <tr>\n",
       "      <th>s</th>\n",
       "      <td>1</td>\n",
       "      <td>1</td>\n",
       "      <td>0</td>\n",
       "      <td>0</td>\n",
       "      <td>0</td>\n",
       "      <td>0</td>\n",
       "      <td>0</td>\n",
       "    </tr>\n",
       "    <tr>\n",
       "      <th>2</th>\n",
       "      <td>-1</td>\n",
       "      <td>0</td>\n",
       "      <td>1</td>\n",
       "      <td>1</td>\n",
       "      <td>0</td>\n",
       "      <td>0</td>\n",
       "      <td>0</td>\n",
       "    </tr>\n",
       "    <tr>\n",
       "      <th>3</th>\n",
       "      <td>0</td>\n",
       "      <td>-1</td>\n",
       "      <td>0</td>\n",
       "      <td>0</td>\n",
       "      <td>1</td>\n",
       "      <td>0</td>\n",
       "      <td>0</td>\n",
       "    </tr>\n",
       "    <tr>\n",
       "      <th>4</th>\n",
       "      <td>0</td>\n",
       "      <td>0</td>\n",
       "      <td>-1</td>\n",
       "      <td>0</td>\n",
       "      <td>0</td>\n",
       "      <td>1</td>\n",
       "      <td>0</td>\n",
       "    </tr>\n",
       "    <tr>\n",
       "      <th>5</th>\n",
       "      <td>0</td>\n",
       "      <td>0</td>\n",
       "      <td>0</td>\n",
       "      <td>0</td>\n",
       "      <td>-1</td>\n",
       "      <td>0</td>\n",
       "      <td>1</td>\n",
       "    </tr>\n",
       "    <tr>\n",
       "      <th>t</th>\n",
       "      <td>0</td>\n",
       "      <td>0</td>\n",
       "      <td>0</td>\n",
       "      <td>-1</td>\n",
       "      <td>0</td>\n",
       "      <td>-1</td>\n",
       "      <td>-1</td>\n",
       "    </tr>\n",
       "  </tbody>\n",
       "</table>\n",
       "</div>"
      ],
      "text/latex": [
       "\\begin{tabular}{lrrrrrrr}\n",
       "\\toprule\n",
       "{} &  s->2 &  s->3 &  2->4 &  2->t &  3->5 &  4->t &  5->t \\\\\n",
       "\\midrule\n",
       "s &     1 &     1 &     0 &     0 &     0 &     0 &     0 \\\\\n",
       "2 &    -1 &     0 &     1 &     1 &     0 &     0 &     0 \\\\\n",
       "3 &     0 &    -1 &     0 &     0 &     1 &     0 &     0 \\\\\n",
       "4 &     0 &     0 &    -1 &     0 &     0 &     1 &     0 \\\\\n",
       "5 &     0 &     0 &     0 &     0 &    -1 &     0 &     1 \\\\\n",
       "t &     0 &     0 &     0 &    -1 &     0 &    -1 &    -1 \\\\\n",
       "\\bottomrule\n",
       "\\end{tabular}\n"
      ],
      "text/plain": [
       "   s->2  s->3  2->4  2->t  3->5  4->t  5->t\n",
       "s     1     1     0     0     0     0     0\n",
       "2    -1     0     1     1     0     0     0\n",
       "3     0    -1     0     0     1     0     0\n",
       "4     0     0    -1     0     0     1     0\n",
       "5     0     0     0     0    -1     0     1\n",
       "t     0     0     0    -1     0    -1    -1"
      ]
     },
     "metadata": {},
     "output_type": "display_data"
    }
   ],
   "source": [
    "Aeq, arc_idxs = nn2na(NN_dist, node_names = node_names, show_results = False)\n",
    "\n",
    "nan_names = get_col_names(NN, node_names, as_numpy=True, sep = \"->\")\n",
    "\n",
    "print(\"Aeq:\")\n",
    "display(pd.DataFrame(Aeq, index=node_names, columns=nan_names))"
   ]
  },
  {
   "cell_type": "code",
   "execution_count": 7,
   "metadata": {},
   "outputs": [
    {
     "data": {
      "text/html": [
       "<div>\n",
       "<style scoped>\n",
       "    .dataframe tbody tr th:only-of-type {\n",
       "        vertical-align: middle;\n",
       "    }\n",
       "\n",
       "    .dataframe tbody tr th {\n",
       "        vertical-align: top;\n",
       "    }\n",
       "\n",
       "    .dataframe thead th {\n",
       "        text-align: right;\n",
       "    }\n",
       "</style>\n",
       "<table border=\"1\" class=\"dataframe\">\n",
       "  <thead>\n",
       "    <tr style=\"text-align: right;\">\n",
       "      <th></th>\n",
       "      <th>s-&gt;2</th>\n",
       "      <th>s-&gt;3</th>\n",
       "      <th>2-&gt;4</th>\n",
       "      <th>2-&gt;t</th>\n",
       "      <th>3-&gt;5</th>\n",
       "      <th>4-&gt;t</th>\n",
       "      <th>5-&gt;t</th>\n",
       "    </tr>\n",
       "  </thead>\n",
       "  <tbody>\n",
       "    <tr>\n",
       "      <th>t</th>\n",
       "      <td>3.0</td>\n",
       "      <td>1.0</td>\n",
       "      <td>3.0</td>\n",
       "      <td>1.0</td>\n",
       "      <td>3.0</td>\n",
       "      <td>3.0</td>\n",
       "      <td>5.0</td>\n",
       "    </tr>\n",
       "  </tbody>\n",
       "</table>\n",
       "</div>"
      ],
      "text/latex": [
       "\\begin{tabular}{lrrrrrrr}\n",
       "\\toprule\n",
       "{} &  s->2 &  s->3 &  2->4 &  2->t &  3->5 &  4->t &  5->t \\\\\n",
       "\\midrule\n",
       "t &   3.0 &   1.0 &   3.0 &   1.0 &   3.0 &   3.0 &   5.0 \\\\\n",
       "\\bottomrule\n",
       "\\end{tabular}\n"
      ],
      "text/plain": [
       "   s->2  s->3  2->4  2->t  3->5  4->t  5->t\n",
       "t   3.0   1.0   3.0   1.0   3.0   3.0   5.0"
      ]
     },
     "metadata": {},
     "output_type": "display_data"
    },
    {
     "data": {
      "text/html": [
       "<div>\n",
       "<style scoped>\n",
       "    .dataframe tbody tr th:only-of-type {\n",
       "        vertical-align: middle;\n",
       "    }\n",
       "\n",
       "    .dataframe tbody tr th {\n",
       "        vertical-align: top;\n",
       "    }\n",
       "\n",
       "    .dataframe thead th {\n",
       "        text-align: right;\n",
       "    }\n",
       "</style>\n",
       "<table border=\"1\" class=\"dataframe\">\n",
       "  <thead>\n",
       "    <tr style=\"text-align: right;\">\n",
       "      <th></th>\n",
       "      <th>s-&gt;2</th>\n",
       "      <th>s-&gt;3</th>\n",
       "      <th>2-&gt;4</th>\n",
       "      <th>2-&gt;t</th>\n",
       "      <th>3-&gt;5</th>\n",
       "      <th>4-&gt;t</th>\n",
       "      <th>5-&gt;t</th>\n",
       "    </tr>\n",
       "  </thead>\n",
       "  <tbody>\n",
       "    <tr>\n",
       "      <th>C</th>\n",
       "      <td>2.0</td>\n",
       "      <td>1.0</td>\n",
       "      <td>2.0</td>\n",
       "      <td>5.0</td>\n",
       "      <td>2.0</td>\n",
       "      <td>1.0</td>\n",
       "      <td>2.0</td>\n",
       "    </tr>\n",
       "  </tbody>\n",
       "</table>\n",
       "</div>"
      ],
      "text/latex": [
       "\\begin{tabular}{lrrrrrrr}\n",
       "\\toprule\n",
       "{} &  s->2 &  s->3 &  2->4 &  2->t &  3->5 &  4->t &  5->t \\\\\n",
       "\\midrule\n",
       "C &   2.0 &   1.0 &   2.0 &   5.0 &   2.0 &   1.0 &   2.0 \\\\\n",
       "\\bottomrule\n",
       "\\end{tabular}\n"
      ],
      "text/plain": [
       "   s->2  s->3  2->4  2->t  3->5  4->t  5->t\n",
       "C   2.0   1.0   2.0   5.0   2.0   1.0   2.0"
      ]
     },
     "metadata": {},
     "output_type": "display_data"
    }
   ],
   "source": [
    "t = get_costs(NN_time, arc_idxs)\n",
    "display(pd.DataFrame([t], index=['t'], columns=nan_names))\n",
    "costs = get_costs(NN_dist, arc_idxs)\n",
    "display(pd.DataFrame([costs], index=['C'], columns=nan_names))"
   ]
  },
  {
   "cell_type": "code",
   "execution_count": 8,
   "metadata": {},
   "outputs": [],
   "source": [
    "bounds = tuple([(0, None) for arcs in range(0, nan_names.shape[0])])"
   ]
  },
  {
   "cell_type": "code",
   "execution_count": 9,
   "metadata": {},
   "outputs": [
    {
     "data": {
      "text/html": [
       "<div>\n",
       "<style scoped>\n",
       "    .dataframe tbody tr th:only-of-type {\n",
       "        vertical-align: middle;\n",
       "    }\n",
       "\n",
       "    .dataframe tbody tr th {\n",
       "        vertical-align: top;\n",
       "    }\n",
       "\n",
       "    .dataframe thead th {\n",
       "        text-align: right;\n",
       "    }\n",
       "</style>\n",
       "<table border=\"1\" class=\"dataframe\">\n",
       "  <thead>\n",
       "    <tr style=\"text-align: right;\">\n",
       "      <th></th>\n",
       "      <th>Min bound</th>\n",
       "      <th>Max bound</th>\n",
       "      <th>Costs</th>\n",
       "      <th>Max time</th>\n",
       "    </tr>\n",
       "  </thead>\n",
       "  <tbody>\n",
       "    <tr>\n",
       "      <th>s-&gt;2</th>\n",
       "      <td>0</td>\n",
       "      <td>None</td>\n",
       "      <td>2.0</td>\n",
       "      <td>3.0</td>\n",
       "    </tr>\n",
       "    <tr>\n",
       "      <th>s-&gt;3</th>\n",
       "      <td>0</td>\n",
       "      <td>None</td>\n",
       "      <td>1.0</td>\n",
       "      <td>1.0</td>\n",
       "    </tr>\n",
       "    <tr>\n",
       "      <th>2-&gt;4</th>\n",
       "      <td>0</td>\n",
       "      <td>None</td>\n",
       "      <td>2.0</td>\n",
       "      <td>3.0</td>\n",
       "    </tr>\n",
       "    <tr>\n",
       "      <th>2-&gt;t</th>\n",
       "      <td>0</td>\n",
       "      <td>None</td>\n",
       "      <td>5.0</td>\n",
       "      <td>1.0</td>\n",
       "    </tr>\n",
       "    <tr>\n",
       "      <th>3-&gt;5</th>\n",
       "      <td>0</td>\n",
       "      <td>None</td>\n",
       "      <td>2.0</td>\n",
       "      <td>3.0</td>\n",
       "    </tr>\n",
       "    <tr>\n",
       "      <th>4-&gt;t</th>\n",
       "      <td>0</td>\n",
       "      <td>None</td>\n",
       "      <td>1.0</td>\n",
       "      <td>3.0</td>\n",
       "    </tr>\n",
       "    <tr>\n",
       "      <th>5-&gt;t</th>\n",
       "      <td>0</td>\n",
       "      <td>None</td>\n",
       "      <td>2.0</td>\n",
       "      <td>5.0</td>\n",
       "    </tr>\n",
       "  </tbody>\n",
       "</table>\n",
       "</div>"
      ],
      "text/latex": [
       "\\begin{tabular}{lrlrr}\n",
       "\\toprule\n",
       "{} &  Min bound & Max bound &  Costs &  Max time \\\\\n",
       "\\midrule\n",
       "s->2 &          0 &      None &    2.0 &       3.0 \\\\\n",
       "s->3 &          0 &      None &    1.0 &       1.0 \\\\\n",
       "2->4 &          0 &      None &    2.0 &       3.0 \\\\\n",
       "2->t &          0 &      None &    5.0 &       1.0 \\\\\n",
       "3->5 &          0 &      None &    2.0 &       3.0 \\\\\n",
       "4->t &          0 &      None &    1.0 &       3.0 \\\\\n",
       "5->t &          0 &      None &    2.0 &       5.0 \\\\\n",
       "\\bottomrule\n",
       "\\end{tabular}\n"
      ],
      "text/plain": [
       "      Min bound Max bound  Costs  Max time\n",
       "s->2          0      None    2.0       3.0\n",
       "s->3          0      None    1.0       1.0\n",
       "2->4          0      None    2.0       3.0\n",
       "2->t          0      None    5.0       1.0\n",
       "3->5          0      None    2.0       3.0\n",
       "4->t          0      None    1.0       3.0\n",
       "5->t          0      None    2.0       5.0"
      ]
     },
     "execution_count": 9,
     "metadata": {},
     "output_type": "execute_result"
    }
   ],
   "source": [
    "resume_df = pd.DataFrame(bounds, index=nan_names, columns=['Min bound', 'Max bound'])\n",
    "resume_df['Costs'] = costs\n",
    "resume_df['Max time'] = t\n",
    "resume_df"
   ]
  },
  {
   "cell_type": "code",
   "execution_count": 10,
   "metadata": {},
   "outputs": [],
   "source": [
    "def get_new_cost(cost, t, lamb):\n",
    "    c_new = np.zeros(cost.shape)\n",
    "    return cost + lamb*t"
   ]
  },
  {
   "cell_type": "code",
   "execution_count": 11,
   "metadata": {},
   "outputs": [],
   "source": [
    "# Recomienda usar elmétodo method=\"revised simplex\""
   ]
  },
  {
   "cell_type": "code",
   "execution_count": 12,
   "metadata": {},
   "outputs": [
    {
     "data": {
      "text/plain": [
       "array([[ 1,  1,  0,  0,  0,  0,  0],\n",
       "       [-1,  0,  1,  1,  0,  0,  0],\n",
       "       [ 0, -1,  0,  0,  1,  0,  0],\n",
       "       [ 0,  0, -1,  0,  0,  1,  0],\n",
       "       [ 0,  0,  0,  0, -1,  0,  1],\n",
       "       [ 0,  0,  0, -1,  0, -1, -1]])"
      ]
     },
     "execution_count": 12,
     "metadata": {},
     "output_type": "execute_result"
    }
   ],
   "source": [
    "Aeq"
   ]
  },
  {
   "cell_type": "code",
   "execution_count": 13,
   "metadata": {},
   "outputs": [
    {
     "data": {
      "text/plain": [
       "array([ 1.,  0.,  0.,  0.,  0., -1.])"
      ]
     },
     "execution_count": 13,
     "metadata": {},
     "output_type": "execute_result"
    }
   ],
   "source": [
    "beq"
   ]
  },
  {
   "cell_type": "code",
   "execution_count": 14,
   "metadata": {},
   "outputs": [
    {
     "name": "stderr",
     "output_type": "stream",
     "text": [
      "/home/diego/.virtualenvs/OS11/lib/python3.6/site-packages/ipykernel_launcher.py:15: OptimizeWarning: A_eq does not appear to be of full row rank. To improve performance, check the problem formulation for redundant equality constraints.\n",
      "  from ipykernel import kernelapp as app\n"
     ]
    }
   ],
   "source": [
    "lamb_min = 0.0\n",
    "lamb_max = 1\n",
    "lamb_step = 0.01\n",
    "\n",
    "all_lamb = np.arange(lamb_min, lamb_max, lamb_step)\n",
    "\n",
    "# solutions = pd.DataFrame(index = nan_names)\n",
    "\n",
    "resultsT1 = np.zeros((all_lamb.shape[0], 4))\n",
    "resultsT2 = np.zeros((all_lamb.shape[0], 4))\n",
    "\n",
    "\n",
    "for idx, lamb in enumerate(all_lamb):\n",
    "    new_cost = get_new_cost(costs, t, lamb)\n",
    "    res_simplex = linprog(new_cost, A_eq=Aeq, b_eq=beq, bounds=bounds, method='simplex')\n",
    "#     solutions[str(lamb)] = pd.DataFrame(costs)\n",
    "#     sol = pd.DataFrame(res_simplex.x, index = nan_names, columns=[str(lamb)[0:4]])\n",
    "#     display(pd.DataFrame(res_simplex.x, index = nan_names, columns=[str(lamb)]))\n",
    "    ce_monio = np.dot(new_cost, res_simplex.x)\n",
    "    \n",
    "    resultsT1[idx,0] = lamb\n",
    "    resultsT1[idx,1] = ce_monio - lamb*T1\n",
    "    resultsT1[idx,2] = np.dot(res_simplex.x, costs)\n",
    "    resultsT1[idx,3] = np.dot(res_simplex.x, t)\n",
    "    resultsT2[idx,0] = lamb\n",
    "    resultsT2[idx,1] = ce_monio - lamb*T2\n",
    "    resultsT2[idx,2] = np.dot(res_simplex.x, costs)\n",
    "    resultsT2[idx,3] = np.dot(res_simplex.x, t)\n",
    "\n",
    "    \n",
    "    \n",
    "    \n",
    "#     if results.shape[0] == 0:\n",
    "#         results = np.array([lamb, lagrangian])\n",
    "#     else:\n",
    "#         results = np.append(results, [np.array(lamb, lagrangian)])\n",
    "#     solutions[sol.columns] = sol\n",
    "    "
   ]
  },
  {
   "cell_type": "code",
   "execution_count": 15,
   "metadata": {},
   "outputs": [
    {
     "data": {
      "image/png": "[encoded data removed]",
      "text/plain": [
       "<Figure size 432x288 with 1 Axes>"
      ]
     },
     "metadata": {
      "needs_background": "light"
     },
     "output_type": "display_data"
    }
   ],
   "source": [
    "# Todo sucede en torno a 0,4\n",
    "plt.plot(resultsT1[:,0], resultsT1[:,1])\n",
    "plt.plot(resultsT2[:,0], resultsT2[:,1])\n",
    "plt.plot(resultsT2[:,0], resultsT2[:,2])\n",
    "plt.plot(resultsT2[:,0], resultsT2[:,3])\n",
    "plt.legend([\"Lagrangian with T = 9\", \"Lagrangian with T = 8\", \"Cost accumulated\", \"Time accumulated\"])\n",
    "plt.show()"
   ]
  },
  {
   "cell_type": "code",
   "execution_count": 16,
   "metadata": {},
   "outputs": [
    {
     "data": {
      "image/png": "[encoded data removed]",
      "text/plain": [
       "<Figure size 432x288 with 1 Axes>"
      ]
     },
     "metadata": {
      "needs_background": "light"
     },
     "output_type": "display_data"
    },
    {
     "name": "stdout",
     "output_type": "stream",
     "text": [
      "RECORDAR FILTRAR VALORES VÁLIDOS DE lambda\n"
     ]
    }
   ],
   "source": [
    "plt.plot(resultsT1[:,0], resultsT1[:,1], '+')\n",
    "# plt.plot(resultsT2[:,0], resultsT2[:,1], )\n",
    "plt.plot(resultsT2[:,0], resultsT2[:,2], '.')\n",
    "plt.plot(resultsT2[:,0], resultsT2[:,3], 'o')\n",
    "plt.legend([\"Lagrangian with T = 8\", \"Cost accumulated\", \"Time accumulated\"])\n",
    "plt.xlim(0.3, 0.5)\n",
    "plt.show()\n",
    "print(\"RECORDAR FILTRAR VALORES VÁLIDOS DE lambda\")"
   ]
  },
  {
   "cell_type": "code",
   "execution_count": 17,
   "metadata": {},
   "outputs": [],
   "source": [
    "# resultsT1[:,0][]\n",
    "# plt.plot(resultsT1[:,0], resultsT1[:,1], '+')\n",
    "# # plt.plot(resultsT2[:,0], resultsT2[:,1])\n",
    "# plt.plot(resultsT2[:,0], resultsT2[:,2], '.')\n",
    "# plt.plot(resultsT2[:,0], resultsT2[:,3], 'o')\n",
    "# plt.legend([\"Lagrangian with T = 8\", \"Cost accumulated\", \"Time accumulated\"])\n",
    "# plt.show()"
   ]
  },
  {
   "cell_type": "code",
   "execution_count": 18,
   "metadata": {},
   "outputs": [
    {
     "data": {
      "image/png": "[encoded data removed]",
      "text/plain": [
       "<Figure size 432x288 with 1 Axes>"
      ]
     },
     "metadata": {
      "needs_background": "light"
     },
     "output_type": "display_data"
    }
   ],
   "source": [
    "plt.plot(resultsT1[:,0], resultsT1[:,1])\n",
    "plt.plot(resultsT2[:,0], resultsT2[:,1])\n",
    "plt.plot(resultsT2[:,0], resultsT2[:,2])\n",
    "plt.plot(resultsT2[:,0], resultsT2[:,3])\n",
    "plt.legend([\"Lagrangian with T = 9\", \"Lagrangian with T = 8\", \"Cost accumulated\", \"Time accumulated\"])\n",
    "plt.show()"
   ]
  },
  {
   "cell_type": "markdown",
   "metadata": {},
   "source": [
    "# Solve trough Simplex method for Tmax = 9"
   ]
  },
  {
   "cell_type": "code",
   "execution_count": 19,
   "metadata": {},
   "outputs": [
    {
     "ename": "NameError",
     "evalue": "name 'A' is not defined",
     "output_type": "error",
     "traceback": [
      "\u001b[0;31m---------------------------------------------------------------------------\u001b[0m",
      "\u001b[0;31mNameError\u001b[0m                                 Traceback (most recent call last)",
      "\u001b[0;32m<ipython-input-19-6d10299aac11>\u001b[0m in \u001b[0;36m<module>\u001b[0;34m\u001b[0m\n\u001b[1;32m      1\u001b[0m \u001b[0;31m# Optimización\u001b[0m\u001b[0;34m\u001b[0m\u001b[0;34m\u001b[0m\u001b[0;34m\u001b[0m\u001b[0m\n\u001b[0;32m----> 2\u001b[0;31m \u001b[0mres_simplex\u001b[0m \u001b[0;34m=\u001b[0m \u001b[0mlinprog\u001b[0m\u001b[0;34m(\u001b[0m\u001b[0mcosts\u001b[0m\u001b[0;34m,\u001b[0m \u001b[0mA_eq\u001b[0m\u001b[0;34m=\u001b[0m\u001b[0mAeq\u001b[0m\u001b[0;34m,\u001b[0m \u001b[0mA_ub\u001b[0m \u001b[0;34m=\u001b[0m \u001b[0mA\u001b[0m\u001b[0;34m,\u001b[0m \u001b[0mb_ub\u001b[0m\u001b[0;34m=\u001b[0m\u001b[0mT1\u001b[0m\u001b[0;34m,\u001b[0m \u001b[0mb_eq\u001b[0m\u001b[0;34m=\u001b[0m\u001b[0mbeq\u001b[0m\u001b[0;34m,\u001b[0m \u001b[0mbounds\u001b[0m\u001b[0;34m=\u001b[0m\u001b[0mbounds\u001b[0m\u001b[0;34m,\u001b[0m \u001b[0mmethod\u001b[0m\u001b[0;34m=\u001b[0m\u001b[0;34m'simplex'\u001b[0m\u001b[0;34m)\u001b[0m\u001b[0;34m\u001b[0m\u001b[0;34m\u001b[0m\u001b[0m\n\u001b[0m\u001b[1;32m      3\u001b[0m \u001b[0;34m\u001b[0m\u001b[0m\n\u001b[1;32m      4\u001b[0m \u001b[0mselarcs\u001b[0m \u001b[0;34m=\u001b[0m \u001b[0mget_selected_arcs\u001b[0m\u001b[0;34m(\u001b[0m\u001b[0mres_simplex\u001b[0m\u001b[0;34m.\u001b[0m\u001b[0mx\u001b[0m\u001b[0;34m.\u001b[0m\u001b[0mround\u001b[0m\u001b[0;34m(\u001b[0m\u001b[0;34m)\u001b[0m\u001b[0;34m.\u001b[0m\u001b[0mastype\u001b[0m\u001b[0;34m(\u001b[0m\u001b[0mint\u001b[0m\u001b[0;34m)\u001b[0m\u001b[0;34m,\u001b[0m \u001b[0mnan_names\u001b[0m\u001b[0;34m)\u001b[0m\u001b[0;34m\u001b[0m\u001b[0;34m\u001b[0m\u001b[0m\n",
      "\u001b[0;31mNameError\u001b[0m: name 'A' is not defined"
     ]
    }
   ],
   "source": [
    "# Optimización\n",
    "res_simplex = linprog(costs, A_eq=Aeq, A_ub = A, b_ub=T1, b_eq=beq, bounds=bounds, method='simplex')\n",
    "\n",
    "selarcs = get_selected_arcs(res_simplex.x.round().astype(int), nan_names)"
   ]
  },
  {
   "cell_type": "code",
   "execution_count": null,
   "metadata": {},
   "outputs": [],
   "source": [
    "pd.DataFrame([res_simplex.x.transpose()], index=['Raw Solutions'], columns=nan_names)"
   ]
  },
  {
   "cell_type": "code",
   "execution_count": null,
   "metadata": {},
   "outputs": [],
   "source": [
    "resume_df['Solution T9'] = res_simplex.x.round().astype(int)"
   ]
  },
  {
   "cell_type": "markdown",
   "metadata": {},
   "source": [
    "## Show resume for Tmax  = 9"
   ]
  },
  {
   "cell_type": "code",
   "execution_count": null,
   "metadata": {},
   "outputs": [],
   "source": [
    "resume_df['Costo total T9']=resume_df['Costs']*resume_df['Solution T9']\n",
    "resume_df['Tiempo total T9']=resume_df['Max time']*resume_df['Solution T9']"
   ]
  },
  {
   "cell_type": "code",
   "execution_count": null,
   "metadata": {},
   "outputs": [],
   "source": [
    "print(\"La ruta detectada es \", selarcs)\n",
    "print(\"El costo total es \", resume_df[\"Costo total T9\"].sum())\n",
    "print(\"El tiempo total es \", resume_df[\"Tiempo total T9\"].sum())"
   ]
  },
  {
   "cell_type": "code",
   "execution_count": null,
   "metadata": {},
   "outputs": [],
   "source": [
    "np.sum(np.abs(res_simplex.x.round() - res_simplex.x))"
   ]
  },
  {
   "cell_type": "code",
   "execution_count": null,
   "metadata": {},
   "outputs": [],
   "source": [
    "resume_df.transpose()"
   ]
  },
  {
   "cell_type": "code",
   "execution_count": null,
   "metadata": {},
   "outputs": [],
   "source": [
    "res_simplex"
   ]
  },
  {
   "cell_type": "code",
   "execution_count": null,
   "metadata": {},
   "outputs": [],
   "source": []
  },
  {
   "cell_type": "markdown",
   "metadata": {},
   "source": [
    "# Solve trough Simplex method for Tmax = 8"
   ]
  },
  {
   "cell_type": "code",
   "execution_count": null,
   "metadata": {},
   "outputs": [],
   "source": [
    "# Optimización\n",
    "res_simplex = linprog(costs, A_eq=Aeq, A_ub = A, b_ub=T2, b_eq=beq, bounds=bounds, method='simplex')\n",
    "\n",
    "selarcs = get_selected_arcs(res_simplex.x.round().astype(int), nan_names)"
   ]
  },
  {
   "cell_type": "code",
   "execution_count": null,
   "metadata": {},
   "outputs": [],
   "source": [
    "pd.DataFrame([res_simplex.x.transpose()], index=['Raw Solutions'], columns=nan_names)"
   ]
  },
  {
   "cell_type": "code",
   "execution_count": null,
   "metadata": {},
   "outputs": [],
   "source": [
    "resume_df['Solution T8'] = res_simplex.x.round().astype(int)"
   ]
  },
  {
   "cell_type": "markdown",
   "metadata": {},
   "source": [
    "## Show resume for Tmax  = 8"
   ]
  },
  {
   "cell_type": "code",
   "execution_count": null,
   "metadata": {},
   "outputs": [],
   "source": [
    "resume_df['Costo total T8']=resume_df['Costs']*resume_df['Solution T8']\n",
    "resume_df['Tiempo total T8']=resume_df['Max time']*resume_df['Solution T8']"
   ]
  },
  {
   "cell_type": "code",
   "execution_count": null,
   "metadata": {},
   "outputs": [],
   "source": [
    "print(\"La ruta detectada es \", selarcs)\n",
    "print(\"El costo total es \", resume_df[\"Costo total T8\"].sum())\n",
    "print(\"El tiempo total es \", resume_df[\"Tiempo total T8\"].sum())"
   ]
  },
  {
   "cell_type": "code",
   "execution_count": null,
   "metadata": {},
   "outputs": [],
   "source": [
    "np.sum(np.abs(res_simplex.x.round() - res_simplex.x))"
   ]
  },
  {
   "cell_type": "code",
   "execution_count": null,
   "metadata": {},
   "outputs": [],
   "source": [
    "resume_df.transpose()"
   ]
  },
  {
   "cell_type": "markdown",
   "metadata": {},
   "source": [
    "# Las conclusiones son que para T=9, lambda debe ser de 0,4, para T=8, lambda debe ser infinitesimalmente superior a 0,4"
   ]
  },
  {
   "cell_type": "code",
   "execution_count": null,
   "metadata": {},
   "outputs": [],
   "source": []
  }
 ],
 "metadata": {
  "kernelspec": {
   "display_name": "Python 3",
   "language": "python",
   "name": "python3"
  },
  "language_info": {
   "codemirror_mode": {
    "name": "ipython",
    "version": 3
   },
   "file_extension": ".py",
   "mimetype": "text/x-python",
   "name": "python",
   "nbconvert_exporter": "python",
   "pygments_lexer": "ipython3",
   "version": "3.6.9"
  }
 },
 "nbformat": 4,
 "nbformat_minor": 4
}
